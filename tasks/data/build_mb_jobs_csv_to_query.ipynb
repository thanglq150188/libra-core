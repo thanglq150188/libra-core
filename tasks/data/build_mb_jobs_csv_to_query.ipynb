{
 "cells": [
  {
   "cell_type": "code",
   "execution_count": 1,
   "metadata": {},
   "outputs": [],
   "source": [
    "import json"
   ]
  },
  {
   "cell_type": "code",
   "execution_count": 2,
   "metadata": {},
   "outputs": [],
   "source": [
    "with open(\"../../data/mb_jobs_7.json\", \"r\", encoding=\"utf-8\") as f:\n",
    "    data = json.load(f)"
   ]
  },
  {
   "cell_type": "code",
   "execution_count": 3,
   "metadata": {},
   "outputs": [
    {
     "data": {
      "text/plain": [
       "{'junior': {'min': 9000000, 'max': 25000000},\n",
       " 'middle': {'min': 12000000, 'max': 30000000},\n",
       " 'professional': {'min': 15000000, 'max': 35000000}}"
      ]
     },
     "execution_count": 3,
     "metadata": {},
     "output_type": "execute_result"
    }
   ],
   "source": [
    "data[0]['salary_range']"
   ]
  },
  {
   "cell_type": "code",
   "execution_count": 4,
   "metadata": {},
   "outputs": [],
   "source": [
    "import re\n",
    "\n",
    "def parse_salaries(salary_data):\n",
    "    if isinstance(salary_data, str):\n",
    "        salaries = (\"\", \"\")\n",
    "        lines = salary_data.split('\\n')\n",
    "        \n",
    "        for line in lines:\n",
    "            line = line.strip()\n",
    "            if not line:\n",
    "                continue\n",
    "            \n",
    "            # Check for \"a - b VND\" format\n",
    "            match = re.match(r'(\\d{1,3}(?:,\\d{3})*) - (\\d{1,3}(?:,\\d{3})*)\\s*VNĐ', line)\n",
    "            if match:\n",
    "                min_salary = match.group(1).replace(',', '')\n",
    "                max_salary = match.group(2).replace(',', '')\n",
    "            else:\n",
    "                # For other formats, set min and max to the same value\n",
    "                # Remove \"VNĐ\" and any leading/trailing whitespace\n",
    "                value = line.replace('VNĐ', '').strip()\n",
    "                \n",
    "                # Try to extract a number if present\n",
    "                number_match = re.search(r'\\d{1,3}(?:,\\d{3})*', value)\n",
    "                if number_match:\n",
    "                    salary_value = int(number_match.group().replace(',', ''))\n",
    "                    min_salary = max_salary = salary_value\n",
    "                else:\n",
    "                    min_salary = 0\n",
    "                    max_salary = -1\n",
    "\n",
    "            salaries = (min_salary, max_salary)\n",
    "        \n",
    "        return salaries\n",
    "    else:\n",
    "        return (salary_data[\"junior\"][\"min\"], salary_data[\"professional\"][\"max\"])\n",
    "            \n",
    "\n",
    "def is_number(s):\n",
    "    return s.isdigit()"
   ]
  },
  {
   "cell_type": "code",
   "execution_count": 5,
   "metadata": {},
   "outputs": [],
   "source": [
    "refined_data = []\n",
    "\n",
    "for entry in data:    \n",
    "    salary_range = parse_salaries(entry[\"salary_range\"])\n",
    "    min_salary = salary_range[0]\n",
    "    max_salary = salary_range[1]\n",
    "    refined_data.append({\n",
    "        \"url\": entry[\"url\"],\n",
    "        \"job_title\": entry[\"job_title\"],\n",
    "        \"department\": entry[\"department\"],\n",
    "        \"job_code\": entry[\"job_code\"],\n",
    "        \"workplace\": entry[\"workplace\"],\n",
    "        \"job_rank\": entry[\"job_rank\"],\n",
    "        \"job_type\": entry[\"job_type\"],\n",
    "        \"job_industry\": [term.strip() for term in entry[\"job_industry\"].split(\",\")],\n",
    "        \"deadline_application\": entry[\"deadline_application\"],\n",
    "        \"min_salary\": min_salary,\n",
    "        \"max_salary\": max_salary,\n",
    "        \"job_detail\": entry[\"job_detail\"],\n",
    "        \"job_requirements\": entry[\"job_requirements\"]\n",
    "    })"
   ]
  },
  {
   "cell_type": "code",
   "execution_count": 6,
   "metadata": {},
   "outputs": [],
   "source": [
    "import pandas as pd\n",
    "\n",
    "df = pd.DataFrame(refined_data)"
   ]
  },
  {
   "cell_type": "code",
   "execution_count": 7,
   "metadata": {},
   "outputs": [],
   "source": [
    "def contains_any(industry_list, search_terms):\n",
    "    return any(any(term.lower() in industry.lower() for term in search_terms) for industry in industry_list)"
   ]
  },
  {
   "cell_type": "code",
   "execution_count": 8,
   "metadata": {},
   "outputs": [],
   "source": [
    "search_terms = ['Kinh doanh']\n",
    "filtered_df = df[df['job_industry'].apply(lambda x: contains_any(x, search_terms))]"
   ]
  },
  {
   "cell_type": "code",
   "execution_count": 9,
   "metadata": {},
   "outputs": [
    {
     "name": "stdout",
     "output_type": "stream",
     "text": [
      "Unique Job Industries:\n",
      "Bán hàng / Kinh doanh\n",
      "Bảo trì / Sửa chữa\n",
      "Bộ phận pháp lý\n",
      "CNTT - Phần cứng / Mạng\n",
      "CNTT - Phần mềm\n",
      "Dịch vụ khách hàng\n",
      "Hành chính / Thư ký\n",
      "Kế toán / Kiểm toán\n",
      "Luật / Pháp lý\n",
      "Mỹ thuật / Nghệ thuật / Thiết kế\n",
      "Ngân hàng\n",
      "Nhân sự\n",
      "Quản lý điều hành\n",
      "Quảng cáo / Đối ngoại / Truyền Thông\n",
      "Tài chính / Đầu tư\n",
      "Tài chính kế hoạch\n",
      "Tư vấn\n"
     ]
    }
   ],
   "source": [
    "def get_unique_job_industries(df, column_name='job_industry'):\n",
    "    \"\"\"\n",
    "    Returns a sorted list of unique job industries from a DataFrame column.\n",
    "    \n",
    "    Parameters:\n",
    "    df (pandas.DataFrame): The DataFrame containing the job industry data.\n",
    "    column_name (str): The name of the column containing job industry lists. Default is 'job_industry'.\n",
    "    \n",
    "    Returns:\n",
    "    list: A sorted list of unique job industries.\n",
    "    \"\"\"\n",
    "    # Check if the column exists in the DataFrame\n",
    "    if column_name not in df.columns:\n",
    "        raise ValueError(f\"Column '{column_name}' not found in the DataFrame\")\n",
    "    \n",
    "    # Flatten the list of lists and get unique values\n",
    "    unique_industries = sorted(set(industry \n",
    "                                   for industries in df[column_name] \n",
    "                                   for industry in industries))\n",
    "    \n",
    "    return unique_industries\n",
    "\n",
    "\n",
    "# Get unique job industries\n",
    "unique_industries = get_unique_job_industries(df)\n",
    "\n",
    "print(\"Unique Job Industries:\")\n",
    "for industry in unique_industries:\n",
    "    print(f\"{industry}\")\n",
    "\n",
    "# You can also use it with a different column name if needed\n",
    "# For example, if your column was named 'industries' instead of 'job_industry':\n",
    "# unique_industries = get_unique_job_industries(df, column_name='industries')"
   ]
  },
  {
   "cell_type": "code",
   "execution_count": 11,
   "metadata": {},
   "outputs": [
    {
     "data": {
      "text/plain": [
       "array(['Khánh Hòa', 'Hà Nam', 'Đà Nẵng', 'Đắk Lắk', 'Phú Yên', 'Nam Định',\n",
       "       'Đắk Nông', 'Bình Định', 'Hải Phòng', 'Hà Nội', 'Hồ Chí Minh',\n",
       "       'Bình Thuận', 'Cần Thơ', 'Sóc Trăng', 'Long An', 'Cà Mau',\n",
       "       'Tiền Giang', 'Tây Ninh', 'Bình Dương', 'Kiên Giang', 'Đồng Nai',\n",
       "       'Lâm Đồng', 'Đồng Tháp', 'Bình Phước', 'Bến Tre', 'Trà Vinh',\n",
       "       'Ninh Bình', 'Hà Tĩnh', 'Thanh Hóa', 'Nghệ An', 'Yên Bái',\n",
       "       'Vĩnh Phúc', 'Phú Thọ', 'Tuyên Quang', 'Bắc Ninh', 'Thái Nguyên',\n",
       "       'Sơn La', 'Lào Cai', 'Lạng Sơn', 'Hưng Yên', 'Hòa Bình',\n",
       "       'Hải Dương', 'Điện Biên', 'Bắc Giang', 'An Giang', 'Bạc Liêu',\n",
       "       'Hậu Giang', 'Vĩnh Long', 'Bà Rịa - Vũng Tàu', 'Thừa Thiên Huế',\n",
       "       'Quảng Trị', 'Quảng Ninh', 'Thái Bình', 'Gia Lai', 'Quảng Ngãi',\n",
       "       'Quảng Nam', 'Quảng Bình', 'Ninh Thuận'], dtype=object)"
      ]
     },
     "execution_count": 11,
     "metadata": {},
     "output_type": "execute_result"
    }
   ],
   "source": [
    "df['workplace'].unique()"
   ]
  },
  {
   "cell_type": "code",
   "execution_count": 12,
   "metadata": {},
   "outputs": [
    {
     "data": {
      "text/plain": [
       "array(['Chuyên viên Khách hàng Cá nhân',\n",
       "       'Chuyên viên Tập sự Khách hàng Cá nhân',\n",
       "       'Chuyên viên Tập sự Khách hàng Doanh nghiệp',\n",
       "       'Chuyên viên Khách hàng Doanh nghiệp',\n",
       "       'Chuyên gia Phát triển dịch vụ (API)',\n",
       "       'Chuyên viên Phát triển dịch vụ thẻ Khách hàng doanh nghiệp (BA thẻ)',\n",
       "       'Cộng tác viên Tuyển dụng', 'Chuyên viên UB',\n",
       "       'Chuyên viên Vận hành hệ thống', 'Data Platform Engineer',\n",
       "       'Quality Assurance (QA)', 'UI UX Designer',\n",
       "       'Chuyên viên Thúc đẩy bán Sản phẩm Tín dụng', 'Giao dịch viên',\n",
       "       'Kiểm soát viên', 'Kiểm toán viên (mảng Mô hình, Dữ liệu)',\n",
       "       'Phó phòng Khách hàng Cá nhân', 'Trưởng phòng Khách hàng Cá nhân',\n",
       "       'Chuyên viên và Chuyên viên cao cấp Quản trị rủi ro mô hình',\n",
       "       'Chuyên viên và Chuyên viên cao cấp Kiểm định Mô hình rủi ro',\n",
       "       'Chuyên viên cao cấp Phân tích nghiệp vụ',\n",
       "       'Chuyên viên và Chuyên viên cao cấp Xây dựng Mô hình rủi ro',\n",
       "       'Red Team', 'Pentester', 'Chuyên viên kiến trúc an toàn thông tin',\n",
       "       'Chuyên viên Giải pháp nền tảng',\n",
       "       'Chuyên viên Phát triển nguồn lực',\n",
       "       'Trưởng phòng Khách hàng Doanh nghiệp',\n",
       "       'Nhân viên hành chính (NS)', 'Kiểm ngân', 'Giám đốc Dịch vụ',\n",
       "       'Chuyên viên Tài trợ thương mại',\n",
       "       'Chuyên viên Phát triển Kinh doanh Bancassurance',\n",
       "       'Chuyên viên và Chuyên viên cao cấp Quản trị rủi ro tích hợp',\n",
       "       'Chuyên viên Hỗ trợ', 'Giám đốc Quan hệ Khách hàng',\n",
       "       'Chuyên viên Dịch vụ Tài trợ Thương mại',\n",
       "       'Chuyên viên Kiểm thử tự động (Automation Tester)',\n",
       "       'Chuyên viên Khách hàng lớn', 'Network Administrator',\n",
       "       'Chuyên viên và Chuyên viên cao cấp Phát triển thương hiệu',\n",
       "       'Chuyên viên và Chuyên viên cao cấp Quản trị nợ',\n",
       "       'Chuyên viên Quản lý ứng dụng', 'AI Engineer', 'Kỹ sư Devsecops',\n",
       "       'Chuyên viên cao cấp và Chuyên gia Tư vấn pháp chế',\n",
       "       'Phó Giám đốc Chi nhánh (SME)', 'Chuyên viên Tập sự UB',\n",
       "       'Chuyên viên Khách hàng Cá nhân (aRM)',\n",
       "       'Chuyên viên Cao cấp và Chuyên gia Chính sách và chất lượng dữ liệu',\n",
       "       'Data Architect', 'Data Engineer', 'Business Analyst',\n",
       "       'Chuyên viên Cao cấp và Chuyên gia Quản lý cấu trúc dữ liệu',\n",
       "       'Tester',\n",
       "       'Chuyên viên và Chuyên viên Cao cấp Mô hình kinh doanh (Data scientist)',\n",
       "       'Chuyên viên và Chuyên viên Cao cấp Công nghệ mô hình (AI/ML Ops)',\n",
       "       'Chuyên viên và Chuyên viên Cao cấp Kiểm định mô hình (Model Validation)',\n",
       "       'Chuyên viên/CVCC Phân tích Khách hàng cá nhân',\n",
       "       'Chuyên viên và Chuyên viên Cao cấp Phân tích Khách hàng doanh nghiệp',\n",
       "       'Data Scientist',\n",
       "       'Chuyên viên và Chuyên viên Cao cấp Phân tích quản trị',\n",
       "       'Data Analyst',\n",
       "       'Chuyên viên Phát triển kinh doanh SME Factory Micro Lending Squad',\n",
       "       'Chuyên viên kinh doanh thẻ',\n",
       "       'DevOps Engineer (Python, Nodejs, Java)', 'Lập trình viên Backend',\n",
       "       'Lập trình viên Mobile',\n",
       "       'Chuyên viên và Chuyên viên cao cấp Giám sát rủi ro tín dụng',\n",
       "       'Chuyên viên và Chuyên viên cao cấp Chính sách rủi ro tín dụng',\n",
       "       'Chuyên Viên Quản lý tuân thủ', 'Chuyên viên Điều tra',\n",
       "       'Chuyên viên và Chuyên viên cao cấp Quản lý pháp chế hệ thống',\n",
       "       'Kỹ Sư Phát Triển BackEnd', 'Kỹ sư Phát triển Fullstack',\n",
       "       'Kỹ sư Phát triển AI', 'Kỹ sư phát triển Mobile',\n",
       "       'Chuyên viên Quản lý xây dựng', 'Title: Giám đốc Dịch vụ',\n",
       "       'Giám đốc Phòng giao dịch', 'Giám đốc UB',\n",
       "       'Chuyên viên và Chuyên viên cao cấp Đầu tư chiến lược và M&A',\n",
       "       'Chuyên viên/ Chuyên viên cao cấp Quản trị rủi ro thị trường'],\n",
       "      dtype=object)"
      ]
     },
     "execution_count": 12,
     "metadata": {},
     "output_type": "execute_result"
    }
   ],
   "source": [
    "df['job_title'].unique()"
   ]
  },
  {
   "cell_type": "code",
   "execution_count": null,
   "metadata": {},
   "outputs": [],
   "source": []
  }
 ],
 "metadata": {
  "kernelspec": {
   "display_name": ".venv",
   "language": "python",
   "name": "python3"
  },
  "language_info": {
   "codemirror_mode": {
    "name": "ipython",
    "version": 3
   },
   "file_extension": ".py",
   "mimetype": "text/x-python",
   "name": "python",
   "nbconvert_exporter": "python",
   "pygments_lexer": "ipython3",
   "version": "3.9.19"
  }
 },
 "nbformat": 4,
 "nbformat_minor": 2
}
